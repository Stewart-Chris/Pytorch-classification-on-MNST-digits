{
  "cells": [
    {
      "cell_type": "markdown",
      "metadata": {
        "id": "gpEx-Jd1pYlP"
      },
      "source": [
        "# Pytorch classification on MNST digits\n"
      ]
    },
    {
      "cell_type": "markdown",
      "metadata": {
        "id": "RY5BOTyRg4Qf"
      },
      "source": [
        "## Import the required Libraries"
      ]
    },
    {
      "cell_type": "code",
      "execution_count": null,
      "metadata": {
        "id": "6diQ4Pfug3uw"
      },
      "outputs": [],
      "source": [
        "import pandas as pd\n",
        "import numpy as np\n",
        "import matplotlib.pyplot as plt\n",
        "import seaborn as sns\n",
        "from matplotlib import cm\n",
        "from sklearn.model_selection import train_test_split\n",
        "import torch\n",
        "import torchvision\n",
        "from torchvision import transforms, utils\n",
        "import torch.nn as nn\n",
        "import torch.optim as optim\n",
        "import torchvision.transforms as transforms\n",
        "from collections import Counter\n",
        "from PIL import Image\n",
        "from skimage import io, transform\n",
        "import os\n",
        "from torchvision.io import read_image\n",
        "from torch.utils.data import Dataset, DataLoader\n",
        "from collections import Counter\n",
        "from google.colab import drive"
      ]
    },
    {
      "cell_type": "markdown",
      "metadata": {
        "id": "xq7rZTSc0xoq"
      },
      "source": [
        "## Set up GPU capabilities\n",
        "\n",
        "The cell below sets up a CUDA device to use with torch, if available.\n",
        "\n",
        "**Remember to turn on the GPU for runtime in Colab**\n",
        "*   Go to Runtime -> Change runtime type --> GPU"
      ]
    },
    {
      "cell_type": "code",
      "execution_count": null,
      "metadata": {
        "colab": {
          "base_uri": "https://localhost:8080/"
        },
        "id": "9Gvv3LVN0xo-",
        "outputId": "e8918d35-5eca-4aff-b9d0-3dfdc543efba"
      },
      "outputs": [
        {
          "name": "stdout",
          "output_type": "stream",
          "text": [
            "2.2.1+cu121\n",
            "cuda:0\n"
          ]
        }
      ],
      "source": [
        "# DO NOT MODIFY\n",
        "torch.manual_seed(42) # For consistency\n",
        "device = torch.device(\"cuda:0\" if torch.cuda.is_available() else \"cpu\")\n",
        "print(torch.__version__)\n",
        "print(device)"
      ]
    },
    {
      "cell_type": "code",
      "execution_count": null,
      "metadata": {
        "colab": {
          "base_uri": "https://localhost:8080/"
        },
        "id": "ZO8Hr0MIw_KK",
        "outputId": "7c993183-9127-4b4a-ba55-8d2466e251e9"
      },
      "outputs": [
        {
          "data": {
            "text/plain": [
              "device(type='cuda', index=0)"
            ]
          },
          "execution_count": 6,
          "metadata": {},
          "output_type": "execute_result"
        }
      ],
      "source": [
        "# Check device type is CUDA\n",
        "device"
      ]
    },
    {
      "cell_type": "markdown",
      "metadata": {
        "id": "EnlOxnsy1TtK"
      },
      "source": [
        "# **Part 1:** Data Preprocessing and Preparation for Modeling in `PyTorch`\n",
        "\n",
        "In this project we will tackle the problem of classifying images.\n",
        "\n",
        "Specifically, we would be looking at the Modified National Institute of Standards and Technology database ([MNIST](https://en.wikipedia.org/wiki/MNIST_database)) dataset."
      ]
    },
    {
      "cell_type": "markdown",
      "metadata": {
        "id": "6Zn1Vfni1Tt8"
      },
      "source": [
        "<div>\n",
        "<img src=\"https://s2.loli.net/2023/03/26/GwFJhNeskzE5Ptx.webp\", width=\"800\"/>\n",
        "</div>\n",
        "\n",
        "Diagram Reference: [Link](https://en.wikipedia.org/wiki/MNIST_database)"
      ]
    },
    {
      "cell_type": "markdown",
      "metadata": {
        "id": "MLwaiP_v1Tt9"
      },
      "source": [
        "[MNIST](https://pytorch.org/vision/stable/generated/torchvision.datasets.MNIST.html) dataset consists of 60,000 28x28 grayscale images in 10 classes.\n",
        "\n",
        "There are 60,000 training images and 10,000 test images.\n",
        "\n",
        "While it is good to have as much training data as possible, in order to avoid having long training time and potentially running out of GPU, we will downsample and train the model with 30,000 training images and 5,000 testing images.\n",
        "\n",
        "\n",
        "We would be using this dataset to train 3 different models:\n",
        "\n",
        "1.   Logistic Regression\n",
        "2.   Feedforward (Fully-Connected) Neural Network\n",
        "3.   Convolutional Neural Network\n",
        "\n",
        "And analyze the difference between these models by looking at the test accuracy and loss.\n",
        "\n"
      ]
    },
    {
      "cell_type": "markdown",
      "metadata": {
        "id": "kXE0i7d8SHS2"
      },
      "source": [
        "## 1.1 Pytorch Dataset and DataLoader"
      ]
    },
    {
      "cell_type": "markdown",
      "metadata": {
        "id": "1B8ars4-SHS6"
      },
      "source": [
        "*   **1.1.1 Instantiate Train and Test Dataset.** $\\to$ Load and transform data such that it is ready to be passed into the model\n",
        "*   **1.1.2 Instantiate Train and Test Dataloader.** $\\to$ Put the data into the iterable such that the model is able to process data in batch from using `DataLoader`\n"
      ]
    },
    {
      "cell_type": "markdown",
      "metadata": {
        "id": "u_EYA1pQSHS7"
      },
      "source": [
        "### 1.1.1 Instantiate Dataset (for train/test dataset) (6 points)\n",
        "\n",
        "Let us load and transform data such that it is ready to be passed into the model with the following transformations:\n",
        "\n",
        "1.   Resize the image to 28 by 28 $\\to$ just to make sure they are really have size $28$x$28$\n",
        "2.   Convert the images to Tensor\n",
        "3.   Rotate the image using `RandomRotation` with the range of rotation between $(-45°,45°)$\n",
        "4.   Add random perspective shift using `RandomPerspective` with the distortion of `0.3` to `50%` of the data.\n",
        "5.   Normalize the Tensor using mean value of `0.1307` and standard deviation value of `0.3081`\n"
      ]
    },
    {
      "cell_type": "code",
      "execution_count": null,
      "metadata": {
        "id": "Y3mN0QNRSHS7"
      },
      "outputs": [],
      "source": [
        "scale = 28\n",
        "distortion_scale=0.3\n",
        "\n",
        "transform = transforms.Compose([\n",
        "    transforms.Resize((scale, scale)),\n",
        "    transforms.ToTensor(),\n",
        "    transforms.RandomRotation(degrees = (-45, 45)),\n",
        "    transforms.RandomPerspective(distortion_scale = distortion_scale, p=0.5),\n",
        "    transforms.Normalize(mean=0.1307, std=0.3081)\n",
        "    ])"
      ]
    },
    {
      "cell_type": "markdown",
      "metadata": {
        "id": "5xky6_3jSHS7"
      },
      "source": [
        "Now that we have defined the tranforms we are going to apply to the dataset, let's instantiate `Dataset` objects for both the training and testing sets using predefined PyTorch Dataset.\n",
        "\n",
        "In addition, since the whole dataset is pretty large for running the model, we will also be downsampling by reducing the size of the dataset by half.\n",
        "\n",
        "Steps:\n",
        "* Initiate the `Dataset` object for the training set as `train_dataset`\n",
        "* Downsample training by getting the train data at even-numbered indices, specified as `train_subset`\n",
        "* Initiate the `Dataset` object for the testing set as `test_dataset`\n",
        "* Downsample testing by getting the test data at even-numbered indices, specified as `test_subset`\n"
      ]
    },
    {
      "cell_type": "code",
      "execution_count": null,
      "metadata": {
        "colab": {
          "base_uri": "https://localhost:8080/"
        },
        "id": "mp6MJPMySHS8",
        "outputId": "34a516b8-22d6-47ca-d223-56f68894bdfb"
      },
      "outputs": [
        {
          "name": "stdout",
          "output_type": "stream",
          "text": [
            "Downloading http://yann.lecun.com/exdb/mnist/train-images-idx3-ubyte.gz\n",
            "Downloading http://yann.lecun.com/exdb/mnist/train-images-idx3-ubyte.gz to ./data/MNIST/raw/train-images-idx3-ubyte.gz\n"
          ]
        },
        {
          "name": "stderr",
          "output_type": "stream",
          "text": [
            "100%|██████████| 9912422/9912422 [00:00<00:00, 142231086.91it/s]"
          ]
        },
        {
          "name": "stdout",
          "output_type": "stream",
          "text": [
            "Extracting ./data/MNIST/raw/train-images-idx3-ubyte.gz to ./data/MNIST/raw\n"
          ]
        },
        {
          "name": "stderr",
          "output_type": "stream",
          "text": [
            "\n"
          ]
        },
        {
          "name": "stdout",
          "output_type": "stream",
          "text": [
            "\n",
            "Downloading http://yann.lecun.com/exdb/mnist/train-labels-idx1-ubyte.gz\n",
            "Downloading http://yann.lecun.com/exdb/mnist/train-labels-idx1-ubyte.gz to ./data/MNIST/raw/train-labels-idx1-ubyte.gz\n"
          ]
        },
        {
          "name": "stderr",
          "output_type": "stream",
          "text": [
            "100%|██████████| 28881/28881 [00:00<00:00, 43527018.98it/s]\n"
          ]
        },
        {
          "name": "stdout",
          "output_type": "stream",
          "text": [
            "Extracting ./data/MNIST/raw/train-labels-idx1-ubyte.gz to ./data/MNIST/raw\n",
            "\n",
            "Downloading http://yann.lecun.com/exdb/mnist/t10k-images-idx3-ubyte.gz\n",
            "Downloading http://yann.lecun.com/exdb/mnist/t10k-images-idx3-ubyte.gz to ./data/MNIST/raw/t10k-images-idx3-ubyte.gz\n"
          ]
        },
        {
          "name": "stderr",
          "output_type": "stream",
          "text": [
            "100%|██████████| 1648877/1648877 [00:00<00:00, 33679375.67it/s]\n"
          ]
        },
        {
          "name": "stdout",
          "output_type": "stream",
          "text": [
            "Extracting ./data/MNIST/raw/t10k-images-idx3-ubyte.gz to ./data/MNIST/raw\n",
            "\n",
            "Downloading http://yann.lecun.com/exdb/mnist/t10k-labels-idx1-ubyte.gz\n",
            "Downloading http://yann.lecun.com/exdb/mnist/t10k-labels-idx1-ubyte.gz to ./data/MNIST/raw/t10k-labels-idx1-ubyte.gz\n"
          ]
        },
        {
          "name": "stderr",
          "output_type": "stream",
          "text": [
            "100%|██████████| 4542/4542 [00:00<00:00, 23461242.33it/s]\n"
          ]
        },
        {
          "name": "stdout",
          "output_type": "stream",
          "text": [
            "Extracting ./data/MNIST/raw/t10k-labels-idx1-ubyte.gz to ./data/MNIST/raw\n",
            "\n"
          ]
        }
      ],
      "source": [
        "train_dataset = torchvision.datasets.MNIST('./data', download=True, train=True, transform=transform)\n",
        "train_subset = torch.utils.data.Subset(train_dataset, [i for i in range(len(train_dataset)) if i % 2 == 0])\n",
        "\n",
        "test_dataset = torchvision.datasets.MNIST('./data', download=True, train=False, transform=transform)\n",
        "test_subset = torch.utils.data.Subset(test_dataset, [i for i in range(len(test_dataset)) if i % 2 == 0])"
      ]
    },
    {
      "cell_type": "markdown",
      "metadata": {
        "id": "N2rftZmpdMK0"
      },
      "source": [
        "Now let us transform the data"
      ]
    },
    {
      "cell_type": "code",
      "execution_count": null,
      "metadata": {
        "colab": {
          "base_uri": "https://localhost:8080/"
        },
        "id": "-wu9vZX8SHS8",
        "outputId": "659fa8d9-7ca4-4a45-a37c-9ed4ff7c4242"
      },
      "outputs": [],
      "source": [
        "transforms_train = []\n",
        "for i in range(len(train_dataset.transform.transforms)):\n",
        "  transforms_train.append(str(train_dataset.transform.transforms[i]))\n",
        "transforms_test = []\n",
        "for i in range(len(test_dataset.transform.transforms)):\n",
        "  transforms_test.append(str(test_dataset.transform.transforms[i]))"
      ]
    },
    {
      "cell_type": "markdown",
      "metadata": {
        "id": "xMB-Cy3TSHS8"
      },
      "source": [
        "### 1.1.2 Dataloader - Train / Test\n",
        "\n",
        "Now that we have `trainDataset` and `testDataset`, let's create dataloaders using these two datasets."
      ]
    },
    {
      "cell_type": "code",
      "execution_count": null,
      "metadata": {
        "id": "TOzRzIRwSHS9"
      },
      "outputs": [],
      "source": [
        "batch = 64\n",
        "\n",
        "train_loader = DataLoader(train_subset , batch_size = batch, shuffle = True, num_workers = 0)\n",
        "test_loader = DataLoader(test_subset , batch_size = batch, shuffle = True, num_workers = 0)"
      ]
    },
    {
      "cell_type": "markdown",
      "metadata": {
        "id": "i3Vub3boSNj-"
      },
      "source": [
        "## 1.2 Summarizing our Dataset\n",
        "\n",
        "In this section, we will be looking at the distribution of the dataset (e.g., how many instances belong to class with label `0`) and visualize what we are dealing with (i.e., plot out the sample images)"
      ]
    },
    {
      "cell_type": "markdown",
      "metadata": {
        "id": "1-FMAUdWSNj_"
      },
      "source": [
        "### 1.2.1 Looking at the distribution of labels (6 points)\n",
        "\n",
        "We can look at the distribution of labels by retrieving the labels of all possible instances of the subset of data pulled from `train_dataset` and `test_dataset` (i.e., `train_subset` and `test_subset`) for the training and testing data, respectively.\n",
        "\n",
        "To do this, we can create a dictionary for the train and test sets that contains the labels as keys and the number of images inside the label as values."
      ]
    },
    {
      "cell_type": "code",
      "execution_count": null,
      "metadata": {
        "colab": {
          "base_uri": "https://localhost:8080/"
        },
        "id": "9ovhFOSDj_V0",
        "outputId": "e51de4ac-d119-4f43-d8b1-9ef5fd3fdcae"
      },
      "outputs": [
        {
          "data": {
            "text/plain": [
              "tensor([0, 1, 2, 3, 4, 5, 6, 7, 8, 9])"
            ]
          },
          "execution_count": 13,
          "metadata": {},
          "output_type": "execute_result"
        }
      ],
      "source": [
        "train_dataset.targets.unique()"
      ]
    },
    {
      "cell_type": "code",
      "execution_count": null,
      "metadata": {
        "colab": {
          "base_uri": "https://localhost:8080/"
        },
        "id": "L3Wo6ww4SNj_",
        "outputId": "d77b02aa-a47f-450d-8607-19f7eb659dcd"
      },
      "outputs": [
        {
          "name": "stdout",
          "output_type": "stream",
          "text": [
            "{1: 3370, 4: 2958, 9: 3005, 2: 2996, 5: 2841, 0: 2819, 6: 2994, 7: 3149, 8: 2883, 3: 2985}\n"
          ]
        }
      ],
      "source": [
        "# Use the original train dataset (with 60,000 images) object to obtain the number of label classes train data\n",
        "train_num_labels = len(train_dataset.targets.unique())\n",
        "\n",
        "train_loader_bar_plot = DataLoader(train_subset, batch_size = len(test_subset), shuffle = True, num_workers = 0)\n",
        "\n",
        "# Creating dictionary for train dataset\n",
        "train_subset_dict = dict()\n",
        "\n",
        "for images, labels in train_loader_bar_plot:\n",
        "  for label in labels:\n",
        "    label = label.item()\n",
        "    if label not in train_subset_dict:\n",
        "      train_subset_dict[label] = 0\n",
        "    train_subset_dict[label] += 1\n",
        "\n",
        "print(train_subset_dict)"
      ]
    },
    {
      "cell_type": "code",
      "execution_count": null,
      "metadata": {
        "colab": {
          "base_uri": "https://localhost:8080/"
        },
        "id": "iwFKDQBzSNkA",
        "outputId": "a574673c-ee27-4549-83ae-c38b8ffdccec"
      },
      "outputs": [
        {
          "name": "stdout",
          "output_type": "stream",
          "text": [
            "{2: 501, 5: 458, 0: 451, 7: 519, 6: 499, 1: 591, 8: 466, 3: 511, 9: 524, 4: 480}\n"
          ]
        }
      ],
      "source": [
        "# Use the original test dataset (with 10,000 images) object to obtain the number of label classes in test data\n",
        "test_num_labels = len(test_dataset.targets.unique())\n",
        "\n",
        "test_loader_bar_plot = DataLoader(test_subset, batch_size = len(test_subset), shuffle = True, num_workers = 0)\n",
        "\n",
        "# Creating dictionary for test dataset\n",
        "test_subset_dict = dict()\n",
        "\n",
        "for images, labels in test_loader_bar_plot:\n",
        "  for label in labels:\n",
        "    label = label.item()\n",
        "    if label not in test_subset_dict:\n",
        "      test_subset_dict[label] = 0\n",
        "    test_subset_dict[label] += 1\n",
        "\n",
        "print(test_subset_dict)"
      ]
    },
    {
      "cell_type": "code",
      "execution_count": null,
      "metadata": {
        "id": "8wIwMyP7nwPa"
      },
      "outputs": [],
      "source": [
        "test_features, test_labels = next(iter(test_loader_bar_plot))"
      ]
    },
    {
      "cell_type": "markdown",
      "metadata": {
        "id": "9qy4qmuuSNkA"
      },
      "source": [
        "### 1.2.2 Visualize through bar charts\n",
        "\n",
        "Now we are going to visualize the distribution of labels using bar charts for both training and testing set which we store the distributions in their respective dictionary objects in section 1.2.1."
      ]
    },
    {
      "cell_type": "code",
      "execution_count": null,
      "metadata": {
        "colab": {
          "base_uri": "https://localhost:8080/",
          "height": 860
        },
        "id": "AyzzS8y9SNkA",
        "outputId": "e6730ddd-5617-45a9-dae9-9d57119c256e"
      },
      "outputs": [
        {
          "data": {
            "text/plain": [
              "([<matplotlib.axis.XTick at 0x7d9236264bb0>,\n",
              "  <matplotlib.axis.XTick at 0x7d9236264b80>,\n",
              "  <matplotlib.axis.XTick at 0x7d9236264a90>,\n",
              "  <matplotlib.axis.XTick at 0x7d9236026b60>,\n",
              "  <matplotlib.axis.XTick at 0x7d9236027610>,\n",
              "  <matplotlib.axis.XTick at 0x7d9236027d60>,\n",
              "  <matplotlib.axis.XTick at 0x7d9236058bb0>,\n",
              "  <matplotlib.axis.XTick at 0x7d9236058df0>,\n",
              "  <matplotlib.axis.XTick at 0x7d92360598a0>,\n",
              "  <matplotlib.axis.XTick at 0x7d923605a350>],\n",
              " [Text(0, 0, '0'),\n",
              "  Text(1, 0, '1'),\n",
              "  Text(2, 0, '2'),\n",
              "  Text(3, 0, '3'),\n",
              "  Text(4, 0, '4'),\n",
              "  Text(5, 0, '5'),\n",
              "  Text(6, 0, '6'),\n",
              "  Text(7, 0, '7'),\n",
              "  Text(8, 0, '8'),\n",
              "  Text(9, 0, '9')])"
            ]
          },
          "execution_count": 18,
          "metadata": {},
          "output_type": "execute_result"
        },
        {
          "data": {
            "text/plain": [
              "<Figure size 800x600 with 0 Axes>"
            ]
          },
          "metadata": {},
          "output_type": "display_data"
        },
        {
          "data": {
            "image/png": "[encoded data removed]",
            "text/plain": [
              "<Figure size 640x480 with 1 Axes>"
            ]
          },
          "metadata": {},
          "output_type": "display_data"
        }
      ],
      "source": [
        "# Create a barplot showing the distribution of the train dataset\n",
        "plt.figure(figsize=(8, 6))\n",
        "\n",
        "labels = list(train_subset_dict.keys())\n",
        "freq = list(train_subset_dict.values())\n",
        "\n",
        "fig, ax = plt.subplots()\n",
        "bar_container = ax.bar(labels, freq)\n",
        "ax.set(xlabel = 'Labels', ylabel='Frequency', title='Training set labels and corresponding frequencies')\n",
        "ax.bar_label(bar_container, fmt='{:,.0f}')\n",
        "plt.xticks(range(0, 10))\n",
        "\n"
      ]
    },
    {
      "cell_type": "code",
      "execution_count": null,
      "metadata": {
        "colab": {
          "base_uri": "https://localhost:8080/",
          "height": 860
        },
        "id": "L8pNTb0CSNkB",
        "outputId": "699a986a-16a3-4cc6-d317-1de38660ba91"
      },
      "outputs": [
        {
          "data": {
            "text/plain": [
              "([<matplotlib.axis.XTick at 0x7d92360d6710>,\n",
              "  <matplotlib.axis.XTick at 0x7d92360d66e0>,\n",
              "  <matplotlib.axis.XTick at 0x7d92360d65f0>,\n",
              "  <matplotlib.axis.XTick at 0x7d9236114520>,\n",
              "  <matplotlib.axis.XTick at 0x7d9236114fd0>,\n",
              "  <matplotlib.axis.XTick at 0x7d9236115a80>,\n",
              "  <matplotlib.axis.XTick at 0x7d9236116530>,\n",
              "  <matplotlib.axis.XTick at 0x7d9236116fe0>,\n",
              "  <matplotlib.axis.XTick at 0x7d9236115210>,\n",
              "  <matplotlib.axis.XTick at 0x7d9236117a00>],\n",
              " [Text(0, 0, '0'),\n",
              "  Text(1, 0, '1'),\n",
              "  Text(2, 0, '2'),\n",
              "  Text(3, 0, '3'),\n",
              "  Text(4, 0, '4'),\n",
              "  Text(5, 0, '5'),\n",
              "  Text(6, 0, '6'),\n",
              "  Text(7, 0, '7'),\n",
              "  Text(8, 0, '8'),\n",
              "  Text(9, 0, '9')])"
            ]
          },
          "execution_count": 19,
          "metadata": {},
          "output_type": "execute_result"
        },
        {
          "data": {
            "text/plain": [
              "<Figure size 800x600 with 0 Axes>"
            ]
          },
          "metadata": {},
          "output_type": "display_data"
        },
        {
          "data": {
            "image/png": "[encoded data removed]",
            "text/plain": [
              "<Figure size 640x480 with 1 Axes>"
            ]
          },
          "metadata": {},
          "output_type": "display_data"
        }
      ],
      "source": [
        "# Create a barplot showing the distribution of the test dataset\n",
        "plt.figure(figsize=(8, 6))\n",
        "\n",
        "labels = list(test_subset_dict.keys())\n",
        "freq = list(test_subset_dict.values())\n",
        "\n",
        "fig, ax = plt.subplots()\n",
        "bar_container = ax.bar(labels, freq)\n",
        "ax.set(xlabel = 'Labels', ylabel='Frequency', title='Testing set labels and corresponding frequencies')\n",
        "ax.bar_label(bar_container, fmt='{:,.0f}')\n",
        "plt.xticks(range(0, 10))"
      ]
    },
    {
      "cell_type": "markdown",
      "metadata": {
        "id": "xZsNFvUzSNkB"
      },
      "source": [
        "### 1.2.3 Visualize the Training Dataset\n",
        "\n",
        "Let's get a proper look at our training data. We'll look at a sample of images by plotting them with their labels.\n"
      ]
    },
    {
      "cell_type": "code",
      "execution_count": null,
      "metadata": {
        "colab": {
          "base_uri": "https://localhost:8080/",
          "height": 407
        },
        "id": "YiCn3XnXSNkB",
        "outputId": "25a461f6-9d2e-498e-896b-52a74418296a"
      },
      "outputs": [
        {
          "data": {
            "image/png": "[encoded data removed]",
            "text/plain": [
              "<Figure size 800x400 with 6 Axes>"
            ]
          },
          "metadata": {},
          "output_type": "display_data"
        }
      ],
      "source": [
        "torch.manual_seed(42)\n",
        "sample_idxs = [10, 300, 700, 2708, 5035, 8000]\n",
        "\n",
        "# loop through the length of tickers and keep track of index\n",
        "fig, axes = plt.subplots(2, 3, figsize=(8, 4))\n",
        "\n",
        "i = 0\n",
        "for idx in sample_idxs:\n",
        "  image, label = train_dataset[idx]\n",
        "\n",
        "  image_np = image.squeeze().numpy()\n",
        "\n",
        "  ax = axes[i // 3, i % 3]\n",
        "  ax.imshow(image_np, cmap='gray')\n",
        "  ax.set_title(f\"Label: {label}\")\n",
        "  ax.axis('off')\n",
        "  i += 1\n",
        "\n",
        "\n",
        "plt.tight_layout()\n",
        "plt.show()"
      ]
    },
    {
      "cell_type": "markdown",
      "metadata": {
        "id": "efWfR1ZFvFGw"
      },
      "source": [
        "# **Part 2:** Classification Models\n",
        "\n",
        "We now have the data needed to train a multi-class object classifier. We will start simple with a logistic regression classifier as a baseline for our performance, before we move onto more complex neural networks.\n"
      ]
    },
    {
      "cell_type": "markdown",
      "metadata": {
        "id": "GIytVVJbm3Ih"
      },
      "source": [
        "## 2.1 Logical Logistic Regression - Baseline\n",
        "\n",
        "Let's first try solving this problem with a Logistic Regression classifier.\n",
        "\n",
        "We will define a logistic regression model in Pytorch and train it on our training set and evaluate the performance on the test set.\n",
        "\n",
        "Logistic regression can be modelled as a function that can take in any number of inputs and constrain the output to be between 0 and 1. This means we can think of Logistic Regression as a one-layer neural network without hidden layers with Sigmoid as an activation function.\n",
        "\n",
        "<div>\n",
        "<img src='https://i.stack.imgur.com/fKvva.png',width='600'/>\n",
        "</div>"
      ]
    },
    {
      "cell_type": "markdown",
      "metadata": {
        "id": "7MFlH2eL9NJ2"
      },
      "source": [
        "Diagram Reference: [Link](https://stats.stackexchange.com/questions/366707/a-logistic-regression-with-neural-network-mindset-vs-a-shallow-neural-network)"
      ]
    },
    {
      "cell_type": "markdown",
      "metadata": {
        "id": "5cVmxiP0m3In"
      },
      "source": [
        "### 2.1.1 Logistic Regression Model Architecture (5 points)\n",
        "\n",
        "Our first model is a logistic regression model using Pytorch with the number of outputs equal to the number of classes in the model."
      ]
    },
    {
      "cell_type": "code",
      "execution_count": null,
      "metadata": {
        "id": "8vIXliDkm3Io"
      },
      "outputs": [],
      "source": [
        "class LogReg(nn.Module):\n",
        "    def __init__(self):\n",
        "        super().__init__()\n",
        "        # Initialize the neural network layers\n",
        "        self.flatten = nn.Flatten()\n",
        "        self.linear = nn.Linear(28*28, 10)\n",
        "        self.sigmoid = nn.Sigmoid()\n",
        "\n",
        "\n",
        "    def forward(self, x):\n",
        "        # Implement the operations on input data\n",
        "        outputs = nn.Sequential(self.flatten, self.linear, self.sigmoid)(x)\n",
        "\n",
        "        return outputs"
      ]
    },
    {
      "cell_type": "markdown",
      "metadata": {
        "id": "Hd5MCDQtm3Ip"
      },
      "source": [
        "Let's print the model summary"
      ]
    },
    {
      "cell_type": "code",
      "execution_count": null,
      "metadata": {
        "colab": {
          "base_uri": "https://localhost:8080/"
        },
        "id": "BkIy0N4Wm3Iq",
        "outputId": "7eb28261-0ca8-466b-d529-f72192cf7900"
      },
      "outputs": [
        {
          "data": {
            "text/plain": [
              "LogReg(\n",
              "  (flatten): Flatten(start_dim=1, end_dim=-1)\n",
              "  (linear): Linear(in_features=784, out_features=10, bias=True)\n",
              "  (sigmoid): Sigmoid()\n",
              ")"
            ]
          },
          "execution_count": 22,
          "metadata": {},
          "output_type": "execute_result"
        }
      ],
      "source": [
        "LogReg()"
      ]
    },
    {
      "cell_type": "markdown",
      "metadata": {
        "id": "jesvQ9qBm3Ir"
      },
      "source": [
        "### 2.1.2 Training Logistic Regression Model\n"
      ]
    },
    {
      "cell_type": "code",
      "execution_count": null,
      "metadata": {
        "colab": {
          "base_uri": "https://localhost:8080/"
        },
        "id": "tmdlh86xm3Ir",
        "outputId": "9e152591-719b-4395-934d-2255f3ae0018"
      },
      "outputs": [
        {
          "name": "stdout",
          "output_type": "stream",
          "text": [
            "The loss for Epoch 0 is: 134.2579653400348, Accuracy = 45.74666666666667\n",
            "The loss for Epoch 1 is: 124.49367659839231, Accuracy = 59.263333333333335\n",
            "The loss for Epoch 2 is: 121.14841804016373, Accuracy = 61.27\n",
            "The loss for Epoch 3 is: 119.39870982790298, Accuracy = 62.5\n",
            "The loss for Epoch 4 is: 118.35292959314928, Accuracy = 62.54666666666667\n",
            "The loss for Epoch 5 is: 117.54329795674728, Accuracy = 63.39666666666667\n",
            "The loss for Epoch 6 is: 116.7935685603095, Accuracy = 63.70333333333333\n",
            "The loss for Epoch 7 is: 116.41601136295017, Accuracy = 63.6\n",
            "The loss for Epoch 8 is: 115.96743367729918, Accuracy = 64.05333333333333\n",
            "The loss for Epoch 9 is: 115.82281884964087, Accuracy = 63.943333333333335\n",
            "CPU times: user 5min 50s, sys: 1.51 s, total: 5min 52s\n",
            "Wall time: 5min 56s\n"
          ]
        }
      ],
      "source": [
        "%%time\n",
        "# Sending the data to device (CPU or GPU)\n",
        "\n",
        "# Instantiate the logistic regression to variable logreg\n",
        "logreg = LogReg().to(device)\n",
        "# Set the loss criterion as CrossEntropyLoss\n",
        "criterion = nn.CrossEntropyLoss()\n",
        "\n",
        "optimizer = optim.Adam(logreg.parameters(), lr=1e-4) #lr - learning step\n",
        "epoch = 10\n",
        "\n",
        "loss_LIST_log = []\n",
        "acc_LIST_log = []\n",
        "\n",
        "# Train the Logistic Regression\n",
        "for epoch in range(epoch):\n",
        "  running_loss = 0.0\n",
        "  correct = 0\n",
        "  total = 0\n",
        "  for inputs, labels in train_loader:\n",
        "      labels = labels.type(torch.LongTensor) # Cast to Float\n",
        "      inputs, labels = inputs.to(device), labels.to(device)\n",
        "\n",
        "      # Step 1: Reset the optimizer tensor gradient every mini-batch\n",
        "      optimizer.zero_grad() #?\n",
        "      # Step 2: Feed the network the train data\n",
        "      outputs = logreg(inputs).to(device)\n",
        "      # Step 3: Get the prediction using argmax\n",
        "      preds = torch.argmax(outputs, axis=1)\n",
        "      # Step 4: Find average loss for one mini-batch of inputs\n",
        "      loss = criterion(outputs, labels) #?\n",
        "      # Step 5: Do a back propagation\n",
        "      loss.backward()\n",
        "      # Step 6: Update the weight using the gradients from back propagation by learning step\n",
        "      optimizer.step()\n",
        "      # Step 7: Get loss and add to accumulated loss for each epoch\n",
        "      running_loss += loss.item() * len(labels)\n",
        "\n",
        "      # Step 8: Get number of correct prediction and increment the number of correct and total predictions after this batch\n",
        "      correct += (preds == labels).sum().item()\n",
        "      total += len(labels)\n",
        "\n",
        "  # Step 9: Calculate training accuracy for each epoch (should multiply by 100 to get percentage), store in variable called 'accuracy', and add to acc_LIST_log\n",
        "  accuracy = 100 * correct / total\n",
        "  acc_LIST_log.append(accuracy)\n",
        "  # Step 10: Get average loss for each epoch and add to loss_LIST_log\n",
        "  average_loss = running_loss / total\n",
        "  loss_LIST_log.append(average_loss)\n",
        "\n",
        "  # print statistics\n",
        "  print(\"The loss for Epoch {} is: {}, Accuracy = {}\".format(epoch, running_loss/len(train_loader), accuracy))\n"
      ]
    },
    {
      "cell_type": "markdown",
      "metadata": {
        "id": "e0LrNmOvm3Is"
      },
      "source": [
        "### 2.1.3 Plotting Training Accuracy vs Epochs for Logistic Regression\n",
        "\n",
        "Now let's plot the training accuracy vs epochs."
      ]
    },
    {
      "cell_type": "code",
      "execution_count": null,
      "metadata": {
        "colab": {
          "base_uri": "https://localhost:8080/",
          "height": 472
        },
        "id": "2VpyKMjem3Is",
        "outputId": "b77734dd-e024-4f50-ad6e-93d423f09d24"
      },
      "outputs": [
        {
          "data": {
            "image/png": "[encoded data removed]",
            "text/plain": [
              "<Figure size 640x480 with 1 Axes>"
            ]
          },
          "metadata": {},
          "output_type": "display_data"
        }
      ],
      "source": [
        "import matplotlib.pyplot as plt\n",
        "import seaborn as sns\n",
        "\n",
        "plt.figsize=(5,3)\n",
        "\n",
        "sns.lineplot(x= list(range(1,11)), y=acc_LIST_log)\n",
        "\n",
        "plt.xlabel('Epochs')\n",
        "plt.ylabel('Accuracy')\n",
        "plt.title('Training Accuracy vs Epochs LogReg')\n",
        "\n",
        "plt.xticks(range(1, 11))\n",
        "\n",
        "plt.show()"
      ]
    },
    {
      "cell_type": "markdown",
      "metadata": {
        "id": "IrJ6qz4Rm3It"
      },
      "source": [
        "### 2.1.4 Logistic Regression Model Accuracy\n",
        "\n",
        "Let's calculate the Test Accuracy for the Logistic Regression Model we trained above."
      ]
    },
    {
      "cell_type": "code",
      "execution_count": null,
      "metadata": {
        "colab": {
          "base_uri": "https://localhost:8080/"
        },
        "id": "sbAYsblXm3It",
        "outputId": "ab8c5450-d2ea-44d0-993c-ff861f11d3c2"
      },
      "outputs": [
        {
          "name": "stdout",
          "output_type": "stream",
          "text": [
            "Test Accuracy: 64.55999755859375\n"
          ]
        }
      ],
      "source": [
        "total = 0\n",
        "correct = 0\n",
        "with torch.no_grad():\n",
        "    for images, labels in test_loader:\n",
        "        labels = labels.type(torch.LongTensor) # Cast to Float\n",
        "        images, labels = images.to(device), labels.to(device)\n",
        "\n",
        "        # Get the output\n",
        "        outputs = logreg(images).to(device)\n",
        "        # Get the prediction using argmax\n",
        "        preds = torch.argmax(outputs, axis=1)\n",
        "        # Get number of correct prediction and add to correct and total\n",
        "        correct += (preds == labels).sum()\n",
        "        total += len(labels)\n",
        "\n",
        "# Calculate test accuracy for logistic regression (should multiple by 100)\n",
        "test_acc_log = 100 * correct / total\n",
        "\n",
        "print('Test Accuracy: ' + str(test_acc_log.item()))"
      ]
    },
    {
      "cell_type": "markdown",
      "metadata": {
        "id": "3YxGiHhWHM6b"
      },
      "source": [
        "## 2.2 Feedforward Neural Networks (Total: 25 points)\n",
        "\n",
        "<div>\n",
        "<img src='https://s2.loli.net/2022/11/21/dvqstVUzcQPChD1.png', width='400'/>\n",
        "</div>"
      ]
    },
    {
      "cell_type": "markdown",
      "metadata": {
        "id": "iCEd-Lj_9pGc"
      },
      "source": [
        "Diagram reference: [Link](https://en.wikipedia.org/wiki/Feedforward_neural_network)"
      ]
    },
    {
      "cell_type": "markdown",
      "metadata": {
        "id": "ycezEPcWm3Iv"
      },
      "source": [
        "Since logistic regression isn't that great at the classification problem above, we need more representation power in our model. We will now define a feedforward neural network."
      ]
    },
    {
      "cell_type": "markdown",
      "metadata": {
        "id": "QfbU0GmSm3Iv"
      },
      "source": [
        "### 2.2.1 Feedforward Neural Network Model Architecture"
      ]
    },
    {
      "cell_type": "code",
      "execution_count": null,
      "metadata": {
        "id": "7ZVvgyJVm3Iv"
      },
      "outputs": [],
      "source": [
        "class FNN(nn.Module):\n",
        "    def __init__(self):\n",
        "        super().__init__()\n",
        "        # Initialize the neural network layers\n",
        "        self.flatten = nn.Flatten()\n",
        "        self.relu = nn.ReLU()\n",
        "        self.input = nn.Linear(28 * 28, 32 * 32)\n",
        "        self.hidden = nn.Linear(32 * 32, 256)\n",
        "        self.output = nn.Linear(256, 10)\n",
        "\n",
        "    def forward(self, x):\n",
        "        # Implement the operations on input data\n",
        "        outputs = nn.Sequential(\n",
        "            self.flatten,\n",
        "            self.input,\n",
        "            self.relu,\n",
        "            self.hidden,\n",
        "            self.relu,\n",
        "            self.output)(x)\n",
        "\n",
        "        return outputs"
      ]
    },
    {
      "cell_type": "markdown",
      "metadata": {
        "id": "5rvgkSaTm3Iw"
      },
      "source": [
        "Let's print the model summary"
      ]
    },
    {
      "cell_type": "code",
      "execution_count": null,
      "metadata": {
        "colab": {
          "base_uri": "https://localhost:8080/"
        },
        "id": "g8Voqj1-m3Iw",
        "outputId": "7d2d220d-27d3-4329-b202-4a8c48e81570"
      },
      "outputs": [
        {
          "data": {
            "text/plain": [
              "FNN(\n",
              "  (flatten): Flatten(start_dim=1, end_dim=-1)\n",
              "  (relu): ReLU()\n",
              "  (input): Linear(in_features=784, out_features=1024, bias=True)\n",
              "  (hidden): Linear(in_features=1024, out_features=256, bias=True)\n",
              "  (output): Linear(in_features=256, out_features=10, bias=True)\n",
              ")"
            ]
          },
          "execution_count": 31,
          "metadata": {},
          "output_type": "execute_result"
        }
      ],
      "source": [
        "FNN()"
      ]
    },
    {
      "cell_type": "markdown",
      "metadata": {
        "id": "JUaHAHLum3Iw"
      },
      "source": [
        "### 2.2.2 Training FNN Model"
      ]
    },
    {
      "cell_type": "code",
      "execution_count": null,
      "metadata": {
        "colab": {
          "base_uri": "https://localhost:8080/"
        },
        "id": "WSechmCnm3Ix",
        "outputId": "c4271a66-b4e6-404a-a4df-ed79bad84193"
      },
      "outputs": [
        {
          "name": "stdout",
          "output_type": "stream",
          "text": [
            "The loss for Epoch 0 is: 71.24878570418367, Accuracy = 65.02333333333333\n",
            "The loss for Epoch 1 is: 43.723770257506544, Accuracy = 78.55\n",
            "The loss for Epoch 2 is: 33.21581859324279, Accuracy = 84.03333333333333\n",
            "The loss for Epoch 3 is: 27.413250632377576, Accuracy = 86.69333333333333\n",
            "The loss for Epoch 4 is: 23.967950040089296, Accuracy = 88.42333333333333\n",
            "The loss for Epoch 5 is: 21.492622433440772, Accuracy = 89.70666666666666\n",
            "The loss for Epoch 6 is: 19.577913512044876, Accuracy = 90.47\n",
            "The loss for Epoch 7 is: 17.388120141873227, Accuracy = 91.47333333333333\n",
            "The loss for Epoch 8 is: 16.652196395117592, Accuracy = 91.91\n",
            "The loss for Epoch 9 is: 16.11477472329699, Accuracy = 92.15\n",
            "CPU times: user 5min 55s, sys: 1.32 s, total: 5min 56s\n",
            "Wall time: 5min 59s\n"
          ]
        }
      ],
      "source": [
        "%%time\n",
        "# Sending the data to device (CPU or GPU)\n",
        "\n",
        "# Step 1: instantiate the FNN model to variable fnn\n",
        "fnn = FNN().to(device)\n",
        "# Step 2: set the loss criterion as CrossEntropyLoss\n",
        "criterion = nn.CrossEntropyLoss()\n",
        "\n",
        "optimizer = optim.Adam(fnn.parameters(), lr=1e-4) #lr - learning step\n",
        "epoch = 10\n",
        "\n",
        "acc_LIST_FNN = []\n",
        "loss_LIST_FNN = []\n",
        "\n",
        "# Train the FNN\n",
        "for epoch in range(epoch):\n",
        "  running_loss = 0.0\n",
        "  correct = 0\n",
        "  total = 0\n",
        "  for inputs, labels in train_loader:\n",
        "      labels = labels.type(torch.LongTensor) # Cast to Long\n",
        "      inputs, labels = inputs.to(device), labels.to(device)\n",
        "\n",
        "      # Step 1: Reset the optimizer tensor gradient every mini-batch\n",
        "      optimizer.zero_grad()\n",
        "      # Step 2: Feed the network the train data\n",
        "      outputs = fnn(inputs).to(device)\n",
        "      # Step 3: Get the prediction using argmax\n",
        "      preds = torch.argmax(outputs, axis=1)\n",
        "      #preds = preds.type(torch.LongTensor) # Cast to Long\n",
        "\n",
        "      # Step 4: Find average loss for one mini-batch of inputs\n",
        "      loss = criterion(outputs, labels)\n",
        "      # Step 5: Do a back propagation\n",
        "      loss.backward()\n",
        "      # Step 6: Update the weight using the gradients from back propagation by learning step\n",
        "      optimizer.step()\n",
        "      # Step 7: Get loss and add to accumulated loss for each epoch\n",
        "      running_loss += loss.item() * len(labels)\n",
        "      # Step 8: Get number of correct prediction and increment the number of correct and total predictions after this batch\n",
        "      # Hint: we need to detach the numbers from GPU to CPU, which stores accuracy and loss\n",
        "      correct += (preds == labels).sum().item()\n",
        "      total += len(labels)\n",
        "  # Step 9: Calculate training accuracy for each epoch (should multiply by 100 to get percentage), store in variable called 'accuracy', and add to acc_LIST_FNN\n",
        "  accuracy = 100 * correct / total\n",
        "  acc_LIST_FNN.append(accuracy)\n",
        "  # Step 10: Get average loss for each epoch and add to loss_LIST_FNN\n",
        "  average_loss = running_loss / total\n",
        "  loss_LIST_FNN.append(average_loss)\n",
        "\n",
        "  # print statistics\n",
        "  print(\"The loss for Epoch {} is: {}, Accuracy = {}\".format(epoch, running_loss/len(train_loader), accuracy))"
      ]
    },
    {
      "cell_type": "markdown",
      "metadata": {
        "id": "DY0zMmGAm3Ix"
      },
      "source": [
        "### 2.2.3 Plotting Training Accuracy vs Epochs FNN\n",
        "\n",
        "Let's plot the training accuracy vs epochs."
      ]
    },
    {
      "cell_type": "code",
      "execution_count": null,
      "metadata": {
        "colab": {
          "base_uri": "https://localhost:8080/",
          "height": 472
        },
        "id": "vIGWgoY3m3Ix",
        "outputId": "989a1cb1-7353-4528-ec56-45def6899bcb"
      },
      "outputs": [
        {
          "data": {
            "image/png": "[encoded data removed]",
            "text/plain": [
              "<Figure size 640x480 with 1 Axes>"
            ]
          },
          "metadata": {},
          "output_type": "display_data"
        }
      ],
      "source": [
        "import matplotlib.pyplot as plt\n",
        "import seaborn as sns\n",
        "\n",
        "plt.figsize=(5,3)\n",
        "\n",
        "sns.lineplot(x= list(range(1,11)), y=acc_LIST_FNN)\n",
        "\n",
        "plt.xlabel('Epochs')\n",
        "plt.ylabel('Accuracy')\n",
        "plt.title('Training Accuracy vs Epochs FNN')\n",
        "\n",
        "plt.xticks(range(1, 11))\n",
        "\n",
        "plt.show()"
      ]
    },
    {
      "cell_type": "markdown",
      "metadata": {
        "id": "_LCcYIAWm3Iy"
      },
      "source": [
        "### 2.2.4 FNN Model Accuracy\n",
        "\n",
        "Now let's calculate the Test Accuracy for the FNN Model we trained above."
      ]
    },
    {
      "cell_type": "code",
      "execution_count": null,
      "metadata": {
        "colab": {
          "base_uri": "https://localhost:8080/"
        },
        "id": "WAyibXsEm3Iy",
        "outputId": "1e41a488-8b23-401c-8171-f6afce2206ef"
      },
      "outputs": [
        {
          "name": "stdout",
          "output_type": "stream",
          "text": [
            "Test Accuracy: 92.57999420166016\n"
          ]
        }
      ],
      "source": [
        "total = 0\n",
        "correct = 0\n",
        "with torch.no_grad():\n",
        "    for images, labels in test_loader:\n",
        "        labels = labels.type(torch.LongTensor) # Cast to Float\n",
        "        images, labels = images.to(device), labels.to(device)\n",
        "\n",
        "        # Get the output\n",
        "        outputs = fnn(images).to(device)\n",
        "        # Get the prediction using argmax\n",
        "        preds = torch.argmax(outputs, axis=1)\n",
        "        # Get number of correct prediction and add to correct and total\n",
        "        correct += (preds == labels).sum()\n",
        "        total += len(labels)\n",
        "\n",
        "\n",
        "# Calculate test accuracy for FNN (should multiple by 100)\n",
        "test_acc_FNN = 100 * correct / total\n",
        "\n",
        "print('Test Accuracy: ' + str(test_acc_FNN.item()))"
      ]
    },
    {
      "cell_type": "markdown",
      "metadata": {
        "id": "9gnLzDIWGiYv"
      },
      "source": [
        "## 2.3 \"Convoluted\" Convolutional Neural Networks\n",
        "\n",
        "Convolutional Neural Networks are very similar to Feedforward Neural Networks from the previous section: they are made up of neurons that have learnable weights and biases. Each neuron receives some inputs, performs a dot product and optionally follows it with a non-linearity. The whole network still expresses a single differentiable score function: from the raw image pixels on one end to class scores at the other.\n",
        "\n",
        "<div>\n",
        "<img src='https://s2.loli.net/2022/11/21/L6pUz2chXWRGn31.png', width='800'>\n",
        "</div>"
      ]
    },
    {
      "cell_type": "markdown",
      "metadata": {
        "id": "QQoCe9-I-juy"
      },
      "source": [
        "Diagram Reference: [Link](https://www.analyticsvidhya.com/blog/2020/10/what-is-the-convolutional-neural-network-architecture/)"
      ]
    },
    {
      "cell_type": "markdown",
      "metadata": {
        "id": "TrflHaqht5dV"
      },
      "source": [
        "We will define the architecture for the CNN we will be using. The components of a CNNs are as follows:\n",
        "\n",
        "*   Convolutional Layers\n",
        "*   Pooling Layers\n",
        "*   Linear Layers\n",
        "*   Activation Functions"
      ]
    },
    {
      "cell_type": "markdown",
      "metadata": {
        "id": "5hZ19uCgt5dV"
      },
      "source": [
        "### 2.3.0 Calculating Output Dimensions of Convolution and Pooling Layers (3 Points)"
      ]
    },
    {
      "cell_type": "markdown",
      "metadata": {
        "id": "QWTpcdqnt5dW"
      },
      "source": [
        "Before we start building the architecture, it's important to understand the dimensions of the feature maps produced in each of the convolution and pooling layers. We want to keep track of this information as once we get to the fully-connected layers, we need to specify the number of input parameters.\n",
        "\n",
        "Let's first build a function that will help us calculate the dimensions based on the input parameters.\n",
        "\n",
        "\n",
        "Since we are working with squared image, we will build just one function that can be used to calculate both the H (height) and W (width) of the feature map.\n",
        "\n",
        "Below is the function used to calculate the output dimension of the feature map:\n",
        "\n",
        "<div>\n",
        "<img src='https://s2.loli.net/2023/03/30/lKpjPLVHcuRC8n2.png',width='300'/>\n",
        "</div>\n",
        "\n",
        "Diagram Reference: [Link](https://pytorch.org/docs/stable/generated/torch.nn.Conv2d.html)"
      ]
    },
    {
      "cell_type": "code",
      "execution_count": null,
      "metadata": {
        "id": "A3drwoLht5dX"
      },
      "outputs": [],
      "source": [
        "import math\n",
        "\n",
        "def feature_map_dim(input_dim, padding, kernel_size, stride):\n",
        "  '''\n",
        "  The function takes in the following four parameters and return the dimension of the output feature map.\n",
        "\n",
        "  input_dim: height/width of the input image\n",
        "  kernel_size: size of the convolving kernel (aka. filter)\n",
        "  padding: padding added to all four sides of the input in order to preserve the edges/borders\n",
        "  stride: Stride of the convolution, or how many shifts per kernel\n",
        "\n",
        "  ROUND DOWN if the result if a fraction.\n",
        "  '''\n",
        "\n",
        "  output = int((input_dim + 2 * padding - (kernel_size - 1) -1) / stride + 1)\n",
        "\n",
        "  return output\n"
      ]
    },
    {
      "cell_type": "markdown",
      "metadata": {
        "id": "JCUg46_pt5dY"
      },
      "source": [
        "### 2.3.1 Convolutional Neural Network Model Architecture"
      ]
    },
    {
      "cell_type": "code",
      "execution_count": null,
      "metadata": {
        "id": "TtjvdlRYt5dZ"
      },
      "outputs": [],
      "source": [
        "class CNN(nn.Module):\n",
        "    def __init__(self):\n",
        "        super().__init__()\n",
        "        # Step 1: Initialize 1 - 3 convolution blocks (consists of a convolution layer, an activation function, a MaxPooling layer)\n",
        "\n",
        "        # Convolution Block 1\n",
        "        self.conv1 = nn.Conv2d(in_channels=1, out_channels=3, kernel_size=5, stride=1, padding=2)\n",
        "        # input dim = 1 channels, with image size 28 x 28\n",
        "        # output dim = 3 channels, with image size 28 x 28\n",
        "        self.relu = nn.ReLU()\n",
        "        self.maxpool = nn.MaxPool2d(2)\n",
        "\n",
        "        # Convolution Block 2\n",
        "        self.conv2 = nn.Conv2d(in_channels=3, out_channels=32, kernel_size=2, stride=1, padding=1)\n",
        "        # input dim = 1 channels, with image size 28 x 28\n",
        "        # output dim = 32 channels, with image size 28 x 28\n",
        "        self.relu = nn.ReLU()\n",
        "        self.maxpool = nn.MaxPool2d(2)\n",
        "\n",
        "        # Step 2: Flatten the 2D image into a 1D tensor\n",
        "        self.flatten = nn.Flatten()\n",
        "\n",
        "        # Step 3: Initialize 1-3 fully-connected layers\n",
        "        self.fc1 = nn.Linear(1568, 10)\n",
        "\n",
        "    def forward(self, x):\n",
        "        # TODO\n",
        "        outputs = nn.Sequential(self.conv1, self.relu, self.maxpool,\n",
        "                                self.conv2, self.relu, self.maxpool,\n",
        "                                self.flatten, self.fc1)(x)\n",
        "        \n",
        "        return outputs"
      ]
    },
    {
      "cell_type": "markdown",
      "metadata": {
        "id": "wyo2eeWQt5dZ"
      },
      "source": [
        "Let's print out the model summary"
      ]
    },
    {
      "cell_type": "code",
      "execution_count": null,
      "metadata": {
        "colab": {
          "base_uri": "https://localhost:8080/"
        },
        "id": "r4Fs6gzjt5dZ",
        "outputId": "072e0c3a-1884-49c9-8263-8ec688b38199"
      },
      "outputs": [
        {
          "data": {
            "text/plain": [
              "CNN(\n",
              "  (conv1): Conv2d(1, 3, kernel_size=(5, 5), stride=(1, 1), padding=(2, 2))\n",
              "  (relu): ReLU()\n",
              "  (maxpool): MaxPool2d(kernel_size=2, stride=2, padding=0, dilation=1, ceil_mode=False)\n",
              "  (conv2): Conv2d(3, 32, kernel_size=(2, 2), stride=(1, 1), padding=(1, 1))\n",
              "  (flatten): Flatten(start_dim=1, end_dim=-1)\n",
              "  (fc1): Linear(in_features=1568, out_features=10, bias=True)\n",
              ")"
            ]
          },
          "execution_count": 44,
          "metadata": {},
          "output_type": "execute_result"
        }
      ],
      "source": [
        "CNN()"
      ]
    },
    {
      "cell_type": "markdown",
      "metadata": {
        "id": "6O2dxIV5t5da"
      },
      "source": [
        "### 2.3.2 Training CNN Model\n",
        "\n",
        "Now let's train the CNN model."
      ]
    },
    {
      "cell_type": "code",
      "execution_count": null,
      "metadata": {
        "colab": {
          "base_uri": "https://localhost:8080/"
        },
        "id": "lW3e2k4Vt5da",
        "outputId": "a6c1bc69-3696-4194-daf2-20f3ac5adf16"
      },
      "outputs": [
        {
          "name": "stdout",
          "output_type": "stream",
          "text": [
            "The loss for Epoch 0 is: 110.51745534299025, Accuracy = 52.89\n",
            "The loss for Epoch 1 is: 59.44714411794504, Accuracy = 72.19\n",
            "The loss for Epoch 2 is: 46.27837343561624, Accuracy = 77.47666666666667\n",
            "The loss for Epoch 3 is: 40.14523866181689, Accuracy = 80.77333333333333\n",
            "The loss for Epoch 4 is: 36.22814946693144, Accuracy = 82.53\n",
            "The loss for Epoch 5 is: 34.375384487322904, Accuracy = 83.77666666666667\n",
            "The loss for Epoch 6 is: 31.828237952454003, Accuracy = 84.73666666666666\n",
            "The loss for Epoch 7 is: 29.70958792273678, Accuracy = 85.78333333333333\n",
            "The loss for Epoch 8 is: 28.461975177976367, Accuracy = 86.43666666666667\n",
            "The loss for Epoch 9 is: 27.43527188738272, Accuracy = 86.65333333333334\n",
            "CPU times: user 5min 48s, sys: 1.27 s, total: 5min 50s\n",
            "Wall time: 5min 51s\n"
          ]
        }
      ],
      "source": [
        "%%time\n",
        "# Sending the data to device (CPU or GPU)\n",
        "# Step 1: instantiate the CNN model to variable cnn\n",
        "cnn = CNN().to(device)\n",
        "# Step 2: set the loss criterion as CrossEntropyLoss\n",
        "criterion = nn.CrossEntropyLoss()\n",
        "optimizer = optim.Adam(cnn.parameters(), lr=1e-4) #lr - learning step\n",
        "epoch = 10\n",
        "\n",
        "acc_LIST_CNN = []\n",
        "loss_LIST_CNN = []\n",
        "\n",
        "# Train the CNN\n",
        "for epoch in range(epoch):\n",
        "  running_loss = 0.0\n",
        "  correct = 0\n",
        "  total = 0\n",
        "  for inputs, labels in train_loader:\n",
        "      labels = labels.type(torch.LongTensor) # Cast to Float\n",
        "      inputs, labels = inputs.to(device), labels.to(device)\n",
        "      # Step 1: Reset the optimizer tensor gradient every mini-batch\n",
        "      optimizer.zero_grad()\n",
        "      # Step 2: Feed the network the train data\n",
        "      outputs = cnn(inputs).to(device)\n",
        "      # Step 3: Get the prediction using argmax\n",
        "      preds = torch.argmax(outputs, axis=1)\n",
        "      # Step 4: Find average loss for one mini-batch of inputs\n",
        "      loss = criterion(outputs, labels)\n",
        "      # Step 5: Do a back propagation\n",
        "      loss.backward()\n",
        "      # Step 6: Update the weight using the gradients from back propagation by learning step\n",
        "      optimizer.step()\n",
        "      # Step 7: Get loss and add to accumulated loss for each epoch\n",
        "      running_loss += loss.item() * len(labels)\n",
        "      # Step 8: Get number of correct prediction and increment the number of correct and total predictions after this batch\n",
        "      # Hint: we need to detach the numbers from GPU to CPU, which stores accuracy and loss\n",
        "      correct += (preds == labels).sum().item()\n",
        "      total += len(labels)\n",
        "  # Step 9: Calculate training accuracy for each epoch (should multiply by 100 to get percentage), store in variable called 'accuracy', and add to acc_LIST_CNN\n",
        "  accuracy = 100 * correct / total\n",
        "  acc_LIST_CNN.append(accuracy)\n",
        "  # Step 10: Get average loss for each epoch and add to loss_LIST_CNN\n",
        "  average_loss = running_loss / total\n",
        "  loss_LIST_CNN.append(average_loss)\n",
        "\n",
        "  # print statistics\n",
        "  print(\"The loss for Epoch {} is: {}, Accuracy = {}\".format(epoch, running_loss/len(train_loader), accuracy))\n"
      ]
    },
    {
      "cell_type": "markdown",
      "metadata": {
        "id": "wPowtEwjt5db"
      },
      "source": [
        "### 2.3.3 Plotting Training Accuracy vs Epochs CNN\n",
        "\n",
        "Let's plot the training accuracy vs epochs."
      ]
    },
    {
      "cell_type": "code",
      "execution_count": null,
      "metadata": {
        "colab": {
          "base_uri": "https://localhost:8080/",
          "height": 472
        },
        "id": "pBZOYpJJt5db",
        "outputId": "71a8730b-c8ff-4f39-b1e9-48c5a4ce2169"
      },
      "outputs": [
        {
          "data": {
            "image/png": "[encoded data removed]",
            "text/plain": [
              "<Figure size 640x480 with 1 Axes>"
            ]
          },
          "metadata": {},
          "output_type": "display_data"
        }
      ],
      "source": [
        "import matplotlib.pyplot as plt\n",
        "import seaborn as sns\n",
        "\n",
        "# TODO\n",
        "plt.figsize=(5,3)\n",
        "\n",
        "sns.lineplot(x= list(range(1,11)), y=acc_LIST_CNN)\n",
        "\n",
        "plt.xlabel('Epochs')\n",
        "plt.ylabel('Accuracy')\n",
        "plt.title('Training Accuracy vs Epochs CNN')\n",
        "\n",
        "plt.xticks(range(1, 11))\n",
        "\n",
        "plt.show()"
      ]
    },
    {
      "cell_type": "markdown",
      "metadata": {
        "id": "wCBs-UQ0t5db"
      },
      "source": [
        "### 2.3.4 CNN Model Test Accuracy\n",
        "\n",
        "Now let's calculate the Test Accuracy for the CNN Model we trained above."
      ]
    },
    {
      "cell_type": "code",
      "execution_count": null,
      "metadata": {
        "colab": {
          "base_uri": "https://localhost:8080/"
        },
        "id": "-uG-m_1bt5dc",
        "outputId": "c75e1a7a-b59b-4749-c4ca-b69c2235c5bc"
      },
      "outputs": [
        {
          "name": "stdout",
          "output_type": "stream",
          "text": [
            "Test Accuracy: 86.97999572753906\n"
          ]
        }
      ],
      "source": [
        "# TODO\n",
        "total = 0\n",
        "correct = 0\n",
        "with torch.no_grad():\n",
        "    for images, labels in test_loader:\n",
        "        labels = labels.type(torch.LongTensor) # Cast to Float\n",
        "        images, labels = images.to(device), labels.to(device)\n",
        "\n",
        "        # Get the output\n",
        "        outputs = cnn(images).to(device)\n",
        "        # Get the prediction using argmax\n",
        "        preds = torch.argmax(outputs, axis=1)\n",
        "        # Get number of correct prediction and add to correct and total\n",
        "        correct += (preds == labels).sum()\n",
        "        total += len(labels)\n",
        "\n",
        "# Calculate test accuracy for CNN (should multiple by 100)\n",
        "test_acc_CNN = 100 * correct / total\n",
        "\n",
        "\n",
        "print(f'Test Accuracy: ' + str(test_acc_CNN.item()))"
      ]
    },
    {
      "cell_type": "markdown",
      "metadata": {
        "id": "6zf6YZk3t5dc"
      },
      "source": [
        "## 2.4. Reflection\n"
      ]
    },
    {
      "cell_type": "markdown",
      "metadata": {
        "id": "rNLaEserlayE"
      },
      "source": [
        "\n",
        "Let's compare the model performance:\n",
        "\n",
        "From the test accuracies, we can see that both FNN and CNN work better than Logistic Regression."
      ]
    },
    {
      "cell_type": "code",
      "execution_count": null,
      "metadata": {
        "colab": {
          "base_uri": "https://localhost:8080/"
        },
        "id": "iZCBqWa6lJSb",
        "outputId": "9a709c5d-7179-4837-9bd2-03db30f1bb4f"
      },
      "outputs": [
        {
          "name": "stdout",
          "output_type": "stream",
          "text": [
            "Test Accuracy for Logistic Regression: 64.55999755859375\n",
            "Test Accuracy for FNN: 92.57999420166016\n",
            "Test Accuracy for CNN: 86.97999572753906\n"
          ]
        }
      ],
      "source": [
        "print(f'Test Accuracy for Logistic Regression: ' + str(test_acc_log.item()))\n",
        "print(f'Test Accuracy for FNN: ' + str(test_acc_FNN.item()))\n",
        "print(f'Test Accuracy for CNN: ' + str(test_acc_CNN.item()))"
      ]
    }
  ],
  "metadata": {
    "accelerator": "GPU",
    "colab": {
      "gpuType": "T4",
      "provenance": [],
      "toc_visible": true
    },
    "kernelspec": {
      "display_name": "Python 3",
      "name": "python3"
    },
    "language_info": {
      "name": "python"
    }
  },
  "nbformat": 4,
  "nbformat_minor": 0
}
